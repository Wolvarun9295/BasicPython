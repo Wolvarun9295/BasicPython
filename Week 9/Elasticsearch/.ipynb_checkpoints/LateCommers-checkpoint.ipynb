{
 "cells": [
  {
   "cell_type": "code",
   "execution_count": 1,
   "metadata": {},
   "outputs": [
    {
     "name": "stdout",
     "output_type": "stream",
     "text": [
      "b'{\\n  \"name\" : \"varun-desktop\",\\n  \"cluster_name\" : \"elasticsearch\",\\n  \"cluster_uuid\" : \"ej3XC7TYSemNBHWySvddSA\",\\n  \"version\" : {\\n    \"number\" : \"7.7.1\",\\n    \"build_flavor\" : \"default\",\\n    \"build_type\" : \"tar\",\\n    \"build_hash\" : \"ad56dce891c901a492bb1ee393f12dfff473a423\",\\n    \"build_date\" : \"2020-05-28T16:30:01.040088Z\",\\n    \"build_snapshot\" : false,\\n    \"lucene_version\" : \"8.5.1\",\\n    \"minimum_wire_compatibility_version\" : \"6.8.0\",\\n    \"minimum_index_compatibility_version\" : \"6.0.0-beta1\"\\n  },\\n  \"tagline\" : \"You Know, for Search\"\\n}\\n'\n"
     ]
    }
   ],
   "source": [
    "import requests\n",
    "req = requests.get('http://localhost:9200')\n",
    "print(req.content)"
   ]
  },
  {
   "cell_type": "code",
   "execution_count": 2,
   "metadata": {},
   "outputs": [],
   "source": [
    "from elasticsearch import Elasticsearch\n",
    "es = Elasticsearch([{'host': 'localhost', 'port':9200}])"
   ]
  },
  {
   "cell_type": "code",
   "execution_count": 16,
   "metadata": {},
   "outputs": [
    {
     "data": {
      "text/plain": [
       "{'took': 4,\n",
       " 'timed_out': False,\n",
       " '_shards': {'total': 1, 'successful': 1, 'skipped': 0, 'failed': 0},\n",
       " 'hits': {'total': {'value': 1, 'relation': 'eq'},\n",
       "  'max_score': 1.0,\n",
       "  'hits': [{'_index': 'userlog',\n",
       "    '_type': 'userlogdata',\n",
       "    '_id': 'hoDhpnIBvBdYf6f3DAXR',\n",
       "    '_score': 1.0,\n",
       "    '_source': {'starttime': '2019-10-24T10:30:02.000Z',\n",
       "     'username': 'shrutid2497@gmail.com'}}]}}"
      ]
     },
     "execution_count": 16,
     "metadata": {},
     "output_type": "execute_result"
    }
   ],
   "source": [
    "es.search(index=\"userlog\", body={\"_source\": [\"username\", \"starttime\"], \"query\": {\"range\": {\"starttime\": {\"gt\":\"2019-10-24T08:30:00.000Z\"}}}})"
   ]
  },
  {
   "cell_type": "code",
   "execution_count": null,
   "metadata": {},
   "outputs": [],
   "source": []
  }
 ],
 "metadata": {
  "kernelspec": {
   "display_name": "Python 3",
   "language": "python",
   "name": "python3"
  },
  "language_info": {
   "codemirror_mode": {
    "name": "ipython",
    "version": 3
   },
   "file_extension": ".py",
   "mimetype": "text/x-python",
   "name": "python",
   "nbconvert_exporter": "python",
   "pygments_lexer": "ipython3",
   "version": "3.6.9"
  }
 },
 "nbformat": 4,
 "nbformat_minor": 4
}
